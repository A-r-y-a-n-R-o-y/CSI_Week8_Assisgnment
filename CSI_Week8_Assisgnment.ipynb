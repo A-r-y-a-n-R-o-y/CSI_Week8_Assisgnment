{
  "nbformat": 4,
  "nbformat_minor": 0,
  "metadata": {
    "colab": {
      "provenance": [],
      "gpuType": "T4"
    },
    "kernelspec": {
      "name": "python3",
      "display_name": "Python 3"
    },
    "language_info": {
      "name": "python"
    },
    "accelerator": "GPU",
    "widgets": {
      "application/vnd.jupyter.widget-state+json": {
        "04f864fdbdfc4af69e8d6266d629554b": {
          "model_module": "@jupyter-widgets/controls",
          "model_name": "HBoxModel",
          "model_module_version": "1.5.0",
          "state": {
            "_dom_classes": [],
            "_model_module": "@jupyter-widgets/controls",
            "_model_module_version": "1.5.0",
            "_model_name": "HBoxModel",
            "_view_count": null,
            "_view_module": "@jupyter-widgets/controls",
            "_view_module_version": "1.5.0",
            "_view_name": "HBoxView",
            "box_style": "",
            "children": [
              "IPY_MODEL_00a86ecb970a468d9c9835748ff9ab33",
              "IPY_MODEL_7d76f87b84cb4030adbae095aff8b5b1",
              "IPY_MODEL_eee8614406e94196be2a7c02e50b438e"
            ],
            "layout": "IPY_MODEL_63a14c2494974b4cb48c31fadea50df0"
          }
        },
        "00a86ecb970a468d9c9835748ff9ab33": {
          "model_module": "@jupyter-widgets/controls",
          "model_name": "HTMLModel",
          "model_module_version": "1.5.0",
          "state": {
            "_dom_classes": [],
            "_model_module": "@jupyter-widgets/controls",
            "_model_module_version": "1.5.0",
            "_model_name": "HTMLModel",
            "_view_count": null,
            "_view_module": "@jupyter-widgets/controls",
            "_view_module_version": "1.5.0",
            "_view_name": "HTMLView",
            "description": "",
            "description_tooltip": null,
            "layout": "IPY_MODEL_479f6d9352aa43499ca75acc8aadb8a9",
            "placeholder": "​",
            "style": "IPY_MODEL_2c2b02727ecf4f6aafe16c1e482a6581",
            "value": "Batches: 100%"
          }
        },
        "7d76f87b84cb4030adbae095aff8b5b1": {
          "model_module": "@jupyter-widgets/controls",
          "model_name": "FloatProgressModel",
          "model_module_version": "1.5.0",
          "state": {
            "_dom_classes": [],
            "_model_module": "@jupyter-widgets/controls",
            "_model_module_version": "1.5.0",
            "_model_name": "FloatProgressModel",
            "_view_count": null,
            "_view_module": "@jupyter-widgets/controls",
            "_view_module_version": "1.5.0",
            "_view_name": "ProgressView",
            "bar_style": "success",
            "description": "",
            "description_tooltip": null,
            "layout": "IPY_MODEL_3625e508b0a349d796be72ba7d941553",
            "max": 20,
            "min": 0,
            "orientation": "horizontal",
            "style": "IPY_MODEL_e7dd646a33a242f49f50551de6053df6",
            "value": 20
          }
        },
        "eee8614406e94196be2a7c02e50b438e": {
          "model_module": "@jupyter-widgets/controls",
          "model_name": "HTMLModel",
          "model_module_version": "1.5.0",
          "state": {
            "_dom_classes": [],
            "_model_module": "@jupyter-widgets/controls",
            "_model_module_version": "1.5.0",
            "_model_name": "HTMLModel",
            "_view_count": null,
            "_view_module": "@jupyter-widgets/controls",
            "_view_module_version": "1.5.0",
            "_view_name": "HTMLView",
            "description": "",
            "description_tooltip": null,
            "layout": "IPY_MODEL_a8633e3fe74e4651bab25dcfa5986b94",
            "placeholder": "​",
            "style": "IPY_MODEL_bc3daa5827b64a08b4c6f88ee444e2f7",
            "value": " 20/20 [00:01&lt;00:00, 24.43it/s]"
          }
        },
        "63a14c2494974b4cb48c31fadea50df0": {
          "model_module": "@jupyter-widgets/base",
          "model_name": "LayoutModel",
          "model_module_version": "1.2.0",
          "state": {
            "_model_module": "@jupyter-widgets/base",
            "_model_module_version": "1.2.0",
            "_model_name": "LayoutModel",
            "_view_count": null,
            "_view_module": "@jupyter-widgets/base",
            "_view_module_version": "1.2.0",
            "_view_name": "LayoutView",
            "align_content": null,
            "align_items": null,
            "align_self": null,
            "border": null,
            "bottom": null,
            "display": null,
            "flex": null,
            "flex_flow": null,
            "grid_area": null,
            "grid_auto_columns": null,
            "grid_auto_flow": null,
            "grid_auto_rows": null,
            "grid_column": null,
            "grid_gap": null,
            "grid_row": null,
            "grid_template_areas": null,
            "grid_template_columns": null,
            "grid_template_rows": null,
            "height": null,
            "justify_content": null,
            "justify_items": null,
            "left": null,
            "margin": null,
            "max_height": null,
            "max_width": null,
            "min_height": null,
            "min_width": null,
            "object_fit": null,
            "object_position": null,
            "order": null,
            "overflow": null,
            "overflow_x": null,
            "overflow_y": null,
            "padding": null,
            "right": null,
            "top": null,
            "visibility": null,
            "width": null
          }
        },
        "479f6d9352aa43499ca75acc8aadb8a9": {
          "model_module": "@jupyter-widgets/base",
          "model_name": "LayoutModel",
          "model_module_version": "1.2.0",
          "state": {
            "_model_module": "@jupyter-widgets/base",
            "_model_module_version": "1.2.0",
            "_model_name": "LayoutModel",
            "_view_count": null,
            "_view_module": "@jupyter-widgets/base",
            "_view_module_version": "1.2.0",
            "_view_name": "LayoutView",
            "align_content": null,
            "align_items": null,
            "align_self": null,
            "border": null,
            "bottom": null,
            "display": null,
            "flex": null,
            "flex_flow": null,
            "grid_area": null,
            "grid_auto_columns": null,
            "grid_auto_flow": null,
            "grid_auto_rows": null,
            "grid_column": null,
            "grid_gap": null,
            "grid_row": null,
            "grid_template_areas": null,
            "grid_template_columns": null,
            "grid_template_rows": null,
            "height": null,
            "justify_content": null,
            "justify_items": null,
            "left": null,
            "margin": null,
            "max_height": null,
            "max_width": null,
            "min_height": null,
            "min_width": null,
            "object_fit": null,
            "object_position": null,
            "order": null,
            "overflow": null,
            "overflow_x": null,
            "overflow_y": null,
            "padding": null,
            "right": null,
            "top": null,
            "visibility": null,
            "width": null
          }
        },
        "2c2b02727ecf4f6aafe16c1e482a6581": {
          "model_module": "@jupyter-widgets/controls",
          "model_name": "DescriptionStyleModel",
          "model_module_version": "1.5.0",
          "state": {
            "_model_module": "@jupyter-widgets/controls",
            "_model_module_version": "1.5.0",
            "_model_name": "DescriptionStyleModel",
            "_view_count": null,
            "_view_module": "@jupyter-widgets/base",
            "_view_module_version": "1.2.0",
            "_view_name": "StyleView",
            "description_width": ""
          }
        },
        "3625e508b0a349d796be72ba7d941553": {
          "model_module": "@jupyter-widgets/base",
          "model_name": "LayoutModel",
          "model_module_version": "1.2.0",
          "state": {
            "_model_module": "@jupyter-widgets/base",
            "_model_module_version": "1.2.0",
            "_model_name": "LayoutModel",
            "_view_count": null,
            "_view_module": "@jupyter-widgets/base",
            "_view_module_version": "1.2.0",
            "_view_name": "LayoutView",
            "align_content": null,
            "align_items": null,
            "align_self": null,
            "border": null,
            "bottom": null,
            "display": null,
            "flex": null,
            "flex_flow": null,
            "grid_area": null,
            "grid_auto_columns": null,
            "grid_auto_flow": null,
            "grid_auto_rows": null,
            "grid_column": null,
            "grid_gap": null,
            "grid_row": null,
            "grid_template_areas": null,
            "grid_template_columns": null,
            "grid_template_rows": null,
            "height": null,
            "justify_content": null,
            "justify_items": null,
            "left": null,
            "margin": null,
            "max_height": null,
            "max_width": null,
            "min_height": null,
            "min_width": null,
            "object_fit": null,
            "object_position": null,
            "order": null,
            "overflow": null,
            "overflow_x": null,
            "overflow_y": null,
            "padding": null,
            "right": null,
            "top": null,
            "visibility": null,
            "width": null
          }
        },
        "e7dd646a33a242f49f50551de6053df6": {
          "model_module": "@jupyter-widgets/controls",
          "model_name": "ProgressStyleModel",
          "model_module_version": "1.5.0",
          "state": {
            "_model_module": "@jupyter-widgets/controls",
            "_model_module_version": "1.5.0",
            "_model_name": "ProgressStyleModel",
            "_view_count": null,
            "_view_module": "@jupyter-widgets/base",
            "_view_module_version": "1.2.0",
            "_view_name": "StyleView",
            "bar_color": null,
            "description_width": ""
          }
        },
        "a8633e3fe74e4651bab25dcfa5986b94": {
          "model_module": "@jupyter-widgets/base",
          "model_name": "LayoutModel",
          "model_module_version": "1.2.0",
          "state": {
            "_model_module": "@jupyter-widgets/base",
            "_model_module_version": "1.2.0",
            "_model_name": "LayoutModel",
            "_view_count": null,
            "_view_module": "@jupyter-widgets/base",
            "_view_module_version": "1.2.0",
            "_view_name": "LayoutView",
            "align_content": null,
            "align_items": null,
            "align_self": null,
            "border": null,
            "bottom": null,
            "display": null,
            "flex": null,
            "flex_flow": null,
            "grid_area": null,
            "grid_auto_columns": null,
            "grid_auto_flow": null,
            "grid_auto_rows": null,
            "grid_column": null,
            "grid_gap": null,
            "grid_row": null,
            "grid_template_areas": null,
            "grid_template_columns": null,
            "grid_template_rows": null,
            "height": null,
            "justify_content": null,
            "justify_items": null,
            "left": null,
            "margin": null,
            "max_height": null,
            "max_width": null,
            "min_height": null,
            "min_width": null,
            "object_fit": null,
            "object_position": null,
            "order": null,
            "overflow": null,
            "overflow_x": null,
            "overflow_y": null,
            "padding": null,
            "right": null,
            "top": null,
            "visibility": null,
            "width": null
          }
        },
        "bc3daa5827b64a08b4c6f88ee444e2f7": {
          "model_module": "@jupyter-widgets/controls",
          "model_name": "DescriptionStyleModel",
          "model_module_version": "1.5.0",
          "state": {
            "_model_module": "@jupyter-widgets/controls",
            "_model_module_version": "1.5.0",
            "_model_name": "DescriptionStyleModel",
            "_view_count": null,
            "_view_module": "@jupyter-widgets/base",
            "_view_module_version": "1.2.0",
            "_view_name": "StyleView",
            "description_width": ""
          }
        }
      }
    }
  },
  "cells": [
    {
      "cell_type": "code",
      "source": [
        "!pip install -q pandas faiss-cpu sentence-transformers transformers openai\n"
      ],
      "metadata": {
        "id": "4Qo5vSSnAPrg"
      },
      "execution_count": 13,
      "outputs": []
    },
    {
      "cell_type": "code",
      "source": [
        "\n",
        "import pandas as pd\n",
        "import faiss\n",
        "from sentence_transformers import SentenceTransformer\n",
        "from transformers import AutoTokenizer, AutoModelForSeq2SeqLM\n",
        "import torch\n",
        "\n",
        "\n",
        "df = pd.read_csv('/content/Training Dataset.csv')\n",
        "df.fillna(\"\", inplace=True)\n",
        "\n",
        "def row_to_text(row):\n",
        "    return (\n",
        "        f\"The applicant is a {row['Gender']} who is a {row['Education']} and \"\n",
        "        f\"{'is self-employed' if row['Self_Employed'] == 'Yes' else 'is not self-employed'}. \"\n",
        "        f\"They have an income of {row['ApplicantIncome']}, a coapplicant income of {row['CoapplicantIncome']}, \"\n",
        "        f\"a loan amount of {row['LoanAmount']} and a loan term of {row['Loan_Amount_Term']}. \"\n",
        "        f\"The credit history is {row['Credit_History']} and the property area is {row['Property_Area']}. \"\n",
        "        f\"The loan status is {row['Loan_Status']}.\"\n",
        "    )\n",
        "\n",
        "docs = df.apply(row_to_text, axis=1).tolist()\n",
        "print(f\"Processed {len(docs)} documents.\")\n"
      ],
      "metadata": {
        "colab": {
          "base_uri": "https://localhost:8080/"
        },
        "id": "z1tmWkYp_s2e",
        "outputId": "f2e71433-c9d2-47c4-f5b3-69a4742d6449"
      },
      "execution_count": 14,
      "outputs": [
        {
          "output_type": "stream",
          "name": "stdout",
          "text": [
            "Processed 614 documents.\n"
          ]
        }
      ]
    },
    {
      "cell_type": "code",
      "source": [
        "\n",
        "embed_model = SentenceTransformer('all-MiniLM-L6-v2')\n",
        "\n",
        "\n",
        "print(\"Embedding documents\")\n",
        "doc_embeddings = embed_model.encode(docs, show_progress_bar=True)\n",
        "\n",
        "\n",
        "dimension = doc_embeddings.shape[1]\n",
        "index = faiss.IndexFlatL2(dimension)\n",
        "index.add(doc_embeddings)\n"
      ],
      "metadata": {
        "colab": {
          "base_uri": "https://localhost:8080/",
          "height": 66,
          "referenced_widgets": [
            "04f864fdbdfc4af69e8d6266d629554b",
            "00a86ecb970a468d9c9835748ff9ab33",
            "7d76f87b84cb4030adbae095aff8b5b1",
            "eee8614406e94196be2a7c02e50b438e",
            "63a14c2494974b4cb48c31fadea50df0",
            "479f6d9352aa43499ca75acc8aadb8a9",
            "2c2b02727ecf4f6aafe16c1e482a6581",
            "3625e508b0a349d796be72ba7d941553",
            "e7dd646a33a242f49f50551de6053df6",
            "a8633e3fe74e4651bab25dcfa5986b94",
            "bc3daa5827b64a08b4c6f88ee444e2f7"
          ]
        },
        "id": "7DY0o_J4BgFY",
        "outputId": "642dbe7d-e25d-4cff-f5cd-40e6ef643bd3"
      },
      "execution_count": 15,
      "outputs": [
        {
          "output_type": "stream",
          "name": "stdout",
          "text": [
            "Embedding documents\n"
          ]
        },
        {
          "output_type": "display_data",
          "data": {
            "text/plain": [
              "Batches:   0%|          | 0/20 [00:00<?, ?it/s]"
            ],
            "application/vnd.jupyter.widget-view+json": {
              "version_major": 2,
              "version_minor": 0,
              "model_id": "04f864fdbdfc4af69e8d6266d629554b"
            }
          },
          "metadata": {}
        }
      ]
    },
    {
      "cell_type": "code",
      "source": [
        "print(\"Loading language model\")\n",
        "tokenizer = AutoTokenizer.from_pretrained(\"google/flan-t5-base\")\n",
        "generator_model = AutoModelForSeq2SeqLM.from_pretrained(\"google/flan-t5-base\")\n"
      ],
      "metadata": {
        "colab": {
          "base_uri": "https://localhost:8080/"
        },
        "id": "EmSJ4v_YBo4L",
        "outputId": "36b776cb-fc0e-484b-8bdb-5f657a140fe4"
      },
      "execution_count": 16,
      "outputs": [
        {
          "output_type": "stream",
          "name": "stdout",
          "text": [
            "Loading language model\n"
          ]
        }
      ]
    },
    {
      "cell_type": "code",
      "source": [
        "\n",
        "def retrieve_docs(query, k=5):\n",
        "    query_vec = embed_model.encode([query])\n",
        "    distances, indices = index.search(query_vec, k)\n",
        "    return [docs[i] for i in indices[0]]\n",
        "\n",
        "\n",
        "def generate_answer(context, question):\n",
        "    prompt = (\n",
        "        f\"You are an assistant for analyzing loan applications.\\n\\n\"\n",
        "        f\"Context:\\n{context}\\n\\n\"\n",
        "        f\"Question: {question}\\n\\n\"\n",
        "        f\"Answer the question based only on the context above.\"\n",
        "    )\n",
        "    inputs = tokenizer(prompt, return_tensors=\"pt\", max_length=512, truncation=True)\n",
        "\n",
        "    outputs = generator_model.generate(\n",
        "        **inputs,\n",
        "        max_new_tokens=100,\n",
        "        repetition_penalty=2.0,\n",
        "        no_repeat_ngram_size=3\n",
        "    )\n",
        "    return tokenizer.decode(outputs[0], skip_special_tokens=True)\n",
        "\n",
        "\n",
        "def answer_question(question, top_k=5):\n",
        "    context_docs = retrieve_docs(question, k=top_k)\n",
        "    context = \"\\n\".join(context_docs)\n",
        "    return generate_answer(context, question)\n"
      ],
      "metadata": {
        "id": "fPOKL4xVCjah"
      },
      "execution_count": 17,
      "outputs": []
    },
    {
      "cell_type": "code",
      "source": [
        "while True:\n",
        "    question = input(\"\\nAsk a question (or type 'exit' to quit): \")\n",
        "    if question.lower() == 'exit':\n",
        "        break\n",
        "    answer = answer_question(question)\n",
        "    print(f\"\\nAnswer: {answer}\")\n"
      ],
      "metadata": {
        "colab": {
          "base_uri": "https://localhost:8080/"
        },
        "id": "aA_8xc5XCpme",
        "outputId": "f186ff30-f76e-4669-f466-83a9b0c74434"
      },
      "execution_count": null,
      "outputs": [
        {
          "output_type": "stream",
          "name": "stdout",
          "text": [
            "\n",
            "Ask a question (or type 'exit' to quit): Does income affect the loan amount?\n",
            "\n",
            "Answer: yes\n",
            "\n",
            "Ask a question (or type 'exit' to quit): Is credit history important for loan status?\n",
            "\n",
            "Answer: Yes\n",
            "\n",
            "Ask a question (or type 'exit' to quit): Does being self-employed impact loan approval?\n",
            "\n",
            "Answer: no\n",
            "\n",
            "Ask a question (or type 'exit' to quit): What factors affect loan approval?\n",
            "\n",
            "Answer: income\n"
          ]
        }
      ]
    }
  ]
}